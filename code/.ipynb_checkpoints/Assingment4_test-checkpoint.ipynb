{
 "metadata": {
  "name": "",
  "signature": "sha256:ed7926cf82a64b3434b402584d76127e3e7aa771fa29bc25317f3131d884ac5e"
 },
 "nbformat": 3,
 "nbformat_minor": 0,
 "worksheets": []
}